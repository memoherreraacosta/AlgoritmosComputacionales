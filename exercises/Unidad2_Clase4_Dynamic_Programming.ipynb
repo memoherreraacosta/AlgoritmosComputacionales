{
 "cells": [
  {
   "cell_type": "markdown",
   "metadata": {},
   "source": [
    "# Dynamic Programming"
   ]
  },
  {
   "cell_type": "markdown",
   "metadata": {},
   "source": [
    "It's like a combination of recursion, divide and conquer somehow"
   ]
  },
  {
   "cell_type": "markdown",
   "metadata": {},
   "source": [
    "Divide and conquer with array storing"
   ]
  },
  {
   "cell_type": "markdown",
   "metadata": {},
   "source": [
    "1. Divide in optimal subproblems\n",
    "2. Express solution of optimal subproblems using recursion\n",
    "3. Subproblems can overlap"
   ]
  },
  {
   "cell_type": "markdown",
   "metadata": {},
   "source": [
    "- Bottom-up\n",
    "- Top-Down"
   ]
  },
  {
   "cell_type": "markdown",
   "metadata": {},
   "source": [
    "**"
   ]
  },
  {
   "cell_type": "markdown",
   "metadata": {},
   "source": [
    "### Dynamic Programming main features"
   ]
  },
  {
   "cell_type": "markdown",
   "metadata": {},
   "source": [
    "1) Optimal substructure\n",
    "\n",
    "2) Overlapping subproblems: recursion contains repeated subproblems"
   ]
  },
  {
   "cell_type": "markdown",
   "metadata": {},
   "source": [
    "#### There are two approaches for solving a Problem with dynamic programming:\n",
    "1. Bottom-up (Tabulation)\n",
    "2. Top-Down (Memoization)"
   ]
  },
  {
   "cell_type": "markdown",
   "metadata": {},
   "source": [
    "# Fibonacci"
   ]
  },
  {
   "cell_type": "markdown",
   "metadata": {},
   "source": [
    "#### 1,1,2,3,5,8,13,21,..."
   ]
  },
  {
   "cell_type": "markdown",
   "metadata": {},
   "source": [
    "Classic Recursion"
   ]
  },
  {
   "cell_type": "markdown",
   "metadata": {},
   "source": [
    "<img src = 'CURSOS/fibotree.png'>"
   ]
  },
  {
   "cell_type": "markdown",
   "metadata": {},
   "source": [
    "## DP = Store intermediate results!!"
   ]
  },
  {
   "cell_type": "markdown",
   "metadata": {},
   "source": [
    "Dynamic Programming Top-Down Memoization"
   ]
  },
  {
   "cell_type": "code",
   "execution_count": 23,
   "metadata": {},
   "outputs": [],
   "source": [
    "# A memoized solution\n",
    "def fib_2(n, memo):\n",
    "    if memo[n] is not None:\n",
    "        return memo[n]\n",
    "    if n == 1 or n == 2:\n",
    "        result = 1\n",
    "    else:\n",
    "        result = fib_2(n-1, memo) + fib_2(n-2, memo)\n",
    "    memo[n] = result\n",
    "    return result\n",
    "\n",
    "def fib_memo(n):\n",
    "    memo = [None] * (n + 1)\n",
    "    return fib_2(n, memo)\n"
   ]
  },
  {
   "cell_type": "code",
   "execution_count": 33,
   "metadata": {},
   "outputs": [],
   "source": [
    "# Python program for Memoized version of nth Fibonacci number\n",
    "# Function to calculate nth Fibonacci number\n",
    "def fib(n, lookup):\n",
    "\n",
    "    # Base case\n",
    "    if n == 0 or n == 1 :\n",
    "        lookup[n] = n\n",
    "\n",
    "    # If the value is not calculated previously then calculate it\n",
    "    if lookup[n] is None:\n",
    "        lookup[n] = fib(n-1 , lookup)  + fib(n-2 , lookup) \n",
    "\n",
    "    # return the value corresponding to that value of n\n",
    "    return lookup[n]\n",
    "     #end of function"
   ]
  },
  {
   "cell_type": "code",
   "execution_count": 37,
   "metadata": {},
   "outputs": [
    {
     "data": {
      "text/plain": [
       "55"
      ]
     },
     "execution_count": 37,
     "metadata": {},
     "output_type": "execute_result"
    }
   ],
   "source": [
    "\n",
    "n = 10\n",
    "lookup = [None]*(101)\n",
    "fib(n, lookup)"
   ]
  },
  {
   "cell_type": "code",
   "execution_count": 38,
   "metadata": {},
   "outputs": [],
   "source": [
    "# A bottom-up solution\n",
    "def fib_bottom_up(n):\n",
    "    if n == 1 or n == 2:\n",
    "        return 1\n",
    "    bottom_up = [None] * (n+1)\n",
    "    bottom_up[1] = 1\n",
    "    bottom_up[2] = 1\n",
    "    for i in range(3, n+1):\n",
    "        bottom_up[i] = bottom_up[i-1] + bottom_up[i-2]\n",
    "    return bottom_up[n]"
   ]
  },
  {
   "cell_type": "markdown",
   "metadata": {},
   "source": [
    "### Tarea: Investigar, leer e implementar el algoritmo Bellman-Ford para encontrar el shortest-path"
   ]
  },
  {
   "cell_type": "code",
   "execution_count": null,
   "metadata": {},
   "outputs": [],
   "source": []
  },
  {
   "cell_type": "code",
   "execution_count": null,
   "metadata": {},
   "outputs": [],
   "source": []
  },
  {
   "cell_type": "markdown",
   "metadata": {},
   "source": [
    "# RETO POR EQUIPOS"
   ]
  },
  {
   "cell_type": "markdown",
   "metadata": {},
   "source": [
    "Se tiene un array A y un número O objetivo. Encontrar e número de subconjuntos (con programación dinámica) en el array que sumados sean igual al número objetivo O.\n",
    "\n",
    "ej. A = [1,2,3,4], \n",
    "     O= 7.\n",
    "\n",
    "Respuesta = 2  \n",
    "\n",
    "({4,3}, {4,2,1})"
   ]
  },
  {
   "cell_type": "code",
   "execution_count": null,
   "metadata": {},
   "outputs": [],
   "source": []
  }
 ],
 "metadata": {
  "kernelspec": {
   "display_name": "Python 3",
   "language": "python",
   "name": "python3"
  },
  "language_info": {
   "codemirror_mode": {
    "name": "ipython",
    "version": 3
   },
   "file_extension": ".py",
   "mimetype": "text/x-python",
   "name": "python",
   "nbconvert_exporter": "python",
   "pygments_lexer": "ipython3",
   "version": "3.6.4"
  }
 },
 "nbformat": 4,
 "nbformat_minor": 2
}
