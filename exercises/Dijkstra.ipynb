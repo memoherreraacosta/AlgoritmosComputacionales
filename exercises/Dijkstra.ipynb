{
 "cells": [
  {
   "cell_type": "code",
   "execution_count": 3,
   "metadata": {},
   "outputs": [],
   "source": [
    "import numpy as np\n",
    "import pandas as pd\n",
    "import matplotlib.pyplot as plt\n",
    "from pylab import rcParams\n",
    "import seaborn as sb\n",
    "import networkx as nx"
   ]
  },
  {
   "cell_type": "code",
   "execution_count": 4,
   "metadata": {},
   "outputs": [],
   "source": [
    "%matplotlib inline\n",
    "rcParams['figure.figsize'] = 5, 4\n",
    "sb.set_style('whitegrid')"
   ]
  },
  {
   "cell_type": "code",
   "execution_count": 5,
   "metadata": {},
   "outputs": [],
   "source": [
    "G = nx.Graph()\n",
    "G.add_nodes_from(['A','B','C','D','E','F','G','H'])\n",
    "G.add_edge('A','B', weight = 8 )\n",
    "G.add_edge('A','C', weight = 2)\n",
    "G.add_edge('A','D', weight = 5)\n",
    "G.add_edge('B','D', weight = 2)\n",
    "G.add_edge('B','F', weight = 13)\n",
    "G.add_edge('D','F', weight = 6)\n",
    "G.add_edge('D','G', weight = 3)\n",
    "G.add_edge('D','E', weight = 1)\n",
    "G.add_edge('D','C', weight = 2)\n",
    "G.add_edge('C','E', weight = 5)\n",
    "G.add_edge('E','G', weight = 1)\n",
    "G.add_edge('G','F', weight = 2)\n",
    "G.add_edge('G','H', weight = 6)\n",
    "G.add_edge('F','H', weight = 3)\n"
   ]
  },
  {
   "cell_type": "code",
   "execution_count": 51,
   "metadata": {},
   "outputs": [
    {
     "name": "stdout",
     "output_type": "stream",
     "text": [
      "{}\n"
     ]
    }
   ],
   "source": [
    "print(G.node['A'])"
   ]
  },
  {
   "cell_type": "code",
   "execution_count": 52,
   "metadata": {},
   "outputs": [
    {
     "name": "stdout",
     "output_type": "stream",
     "text": [
      "Name: \n",
      "Type: Graph\n",
      "Number of nodes: 8\n",
      "Number of edges: 14\n",
      "Average degree:   3.5000\n"
     ]
    }
   ],
   "source": [
    "print(nx.info(G))"
   ]
  },
  {
   "cell_type": "code",
   "execution_count": 53,
   "metadata": {},
   "outputs": [
    {
     "name": "stdout",
     "output_type": "stream",
     "text": [
      "[('A', 3), ('B', 3), ('C', 3), ('D', 6), ('E', 3), ('F', 4), ('G', 4), ('H', 2)]\n"
     ]
    }
   ],
   "source": [
    "print(G.degree())"
   ]
  },
  {
   "cell_type": "code",
   "execution_count": 54,
   "metadata": {},
   "outputs": [
    {
     "data": {
      "image/png": "[encoded data removed]",
      "text/plain": [
       "<Figure size 360x288 with 1 Axes>"
      ]
     },
     "metadata": {},
     "output_type": "display_data"
    }
   ],
   "source": [
    "nx.draw_circular(G, node_color='bisque', with_labels=True)"
   ]
  },
  {
   "cell_type": "code",
   "execution_count": 55,
   "metadata": {},
   "outputs": [
    {
     "data": {
      "text/plain": [
       "['B', 'C', 'D']"
      ]
     },
     "execution_count": 55,
     "metadata": {},
     "output_type": "execute_result"
    }
   ],
   "source": [
    "list(G.neighbors('A'))"
   ]
  },
  {
   "cell_type": "code",
   "execution_count": 56,
   "metadata": {},
   "outputs": [
    {
     "data": {
      "text/plain": [
       "['A', 'C', 'D', 'E', 'G', 'F', 'H']"
      ]
     },
     "execution_count": 56,
     "metadata": {},
     "output_type": "execute_result"
    }
   ],
   "source": [
    "nx.dijkstra_path(G,'A','H')\n",
    "#Link de Dijkstra Algorithm\n",
    "#https://www.youtube.com/watch?v=5GT5hYzjNoo"
   ]
  },
  {
   "cell_type": "code",
   "execution_count": 57,
   "metadata": {},
   "outputs": [
    {
     "data": {
      "text/plain": [
       "[('A', 'B'),\n",
       " ('B', 'D'),\n",
       " ('D', 'F'),\n",
       " ('F', 'G'),\n",
       " ('G', 'E'),\n",
       " ('E', 'C'),\n",
       " ('G', 'H')]"
      ]
     },
     "execution_count": 57,
     "metadata": {},
     "output_type": "execute_result"
    }
   ],
   "source": [
    "list(nx.dfs_edges(G,'A'))\n",
    "#Link de Breadth First Search Algorithm\n",
    "#https://www.youtube.com/watch?v=s-CYnVz-uh4&t=1551s"
   ]
  },
  {
   "cell_type": "code",
   "execution_count": 58,
   "metadata": {},
   "outputs": [
    {
     "data": {
      "text/plain": [
       "8"
      ]
     },
     "execution_count": 58,
     "metadata": {},
     "output_type": "execute_result"
    }
   ],
   "source": [
    "G.get_edge_data('A','B')['weight']\n"
   ]
  },
  {
   "cell_type": "code",
   "execution_count": 59,
   "metadata": {},
   "outputs": [
    {
     "name": "stdout",
     "output_type": "stream",
     "text": [
      "('A', 'B') ('B', 'D') ('D', 'F') ('F', 'G') ('G', 'E') ('E', 'C') ('G', 'H') "
     ]
    }
   ],
   "source": [
    "def dfs(G, v):\n",
    "    nodes = [v]\n",
    "    visited=set()\n",
    "    for start in nodes:\n",
    "        if start in visited:\n",
    "             continue\n",
    "        visited.add(start)\n",
    "        stack = [(start,iter(G[start]))]\n",
    "        while stack:\n",
    "            parent,children = stack[-1]\n",
    "            try:\n",
    "                child = next(children)\n",
    "                if child not in visited:\n",
    "                    yield parent,child\n",
    "                    visited.add(child)\n",
    "                    stack.append((child,iter(G[child])))\n",
    "            except StopIteration:\n",
    "                stack.pop()\n",
    "                \n",
    "path = dfs(G,'A')\n",
    "for p in path:\n",
    "    print(p, end = ' ')"
   ]
  },
  {
   "cell_type": "code",
   "execution_count": 60,
   "metadata": {},
   "outputs": [
    {
     "data": {
      "text/plain": [
       "['A', 'B', 'C', 'D', 'E', 'F', 'G', 'H']"
      ]
     },
     "execution_count": 60,
     "metadata": {},
     "output_type": "execute_result"
    }
   ],
   "source": [
    "list(G.nodes)"
   ]
  },
  {
   "cell_type": "code",
   "execution_count": 61,
   "metadata": {},
   "outputs": [
    {
     "data": {
      "text/plain": [
       "[('A', 'B'), ('A', 'C'), ('A', 'D')]"
      ]
     },
     "execution_count": 61,
     "metadata": {},
     "output_type": "execute_result"
    }
   ],
   "source": [
    "list(G.edges('A'))"
   ]
  },
  {
   "cell_type": "code",
   "execution_count": 62,
   "metadata": {},
   "outputs": [
    {
     "data": {
      "text/plain": [
       "True"
      ]
     },
     "execution_count": 62,
     "metadata": {},
     "output_type": "execute_result"
    }
   ],
   "source": [
    "math.inf > 3"
   ]
  },
  {
   "cell_type": "code",
   "execution_count": 71,
   "metadata": {},
   "outputs": [
    {
     "data": {
      "text/plain": [
       "['A', 'C', 'D', 'E', 'G', 'F', 'H']"
      ]
     },
     "execution_count": 71,
     "metadata": {},
     "output_type": "execute_result"
    }
   ],
   "source": [
    "def dijsktra_path(G, v, d):\n",
    "  visited = {v : 0}\n",
    "  path = {}\n",
    "\n",
    "  nodes = set(list(G.nodes))\n",
    "\n",
    "  while nodes: \n",
    "    min_node = None\n",
    "    for node in nodes:\n",
    "      if node in visited:\n",
    "        if min_node is None:\n",
    "          min_node = node\n",
    "        elif visited[node] < visited[min_node]:\n",
    "          min_node = node\n",
    "\n",
    "    if min_node is None:\n",
    "      break\n",
    "\n",
    "    nodes.remove(min_node)\n",
    "    current_weight = visited[min_node]\n",
    "\n",
    "    for edge in G.edges(min_node):\n",
    "      peso = current_weight + G.get_edge_data(min_node, edge)\n",
    "      if edge not in visited or weight < visited[edge]:\n",
    "        visited[edge] = peso\n",
    "        path[edge] = min_node\n",
    "\n",
    "  return visited, path \n",
    "\n",
    "nx.dijkstra_path(G,'A','H')"
   ]
  },
  {
   "cell_type": "code",
   "execution_count": 8,
   "metadata": {},
   "outputs": [
    {
     "name": "stdout",
     "output_type": "stream",
     "text": [
      "['a', 'b', 'd', 'c']\n"
     ]
    }
   ],
   "source": [
    "#DFS\n",
    "\n",
    "#grafo = {'a':['b','c'], 'b':['c','d'],'c':['b','d']}\n",
    "grafo = {'a':['b','c'], 'b':['d','c'],'c':['b','d'], 'd':[]}\n",
    "\n",
    "def dfs(u,graph, visited=[]):\n",
    "    if u not in visited:\n",
    "        visited.append(u)\n",
    "        for i in graph[u]:\n",
    "            if i not in visited:\n",
    "                dfs(i,graph,visited)\n",
    "    return visited\n",
    "\n",
    "print(dfs('a',grafo))"
   ]
  },
  {
   "cell_type": "code",
   "execution_count": null,
   "metadata": {},
   "outputs": [],
   "source": []
  }
 ],
 "metadata": {
  "kernelspec": {
   "display_name": "Python 3",
   "language": "python",
   "name": "python3"
  },
  "language_info": {
   "codemirror_mode": {
    "name": "ipython",
    "version": 3
   },
   "file_extension": ".py",
   "mimetype": "text/x-python",
   "name": "python",
   "nbconvert_exporter": "python",
   "pygments_lexer": "ipython3",
   "version": "3.6.5"
  }
 },
 "nbformat": 4,
 "nbformat_minor": 2
}
