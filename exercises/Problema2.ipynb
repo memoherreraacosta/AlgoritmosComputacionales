{
 "cells": [
  {
   "cell_type": "code",
   "execution_count": 1,
   "metadata": {},
   "outputs": [
    {
     "name": "stdout",
     "output_type": "stream",
     "text": [
      "1\n"
     ]
    }
   ],
   "source": [
    "def adj(palabra):\n",
    "    alfabeto = [a,b,c]\n",
    "    lenAlf = len(palabra)\n",
    "    cadena = palabra.split()\n",
    "    \n",
    "    if(len(palabra)>3):\n",
    "        \n",
    "        for i in range(0, lenAlf-2):\n",
    "\n",
    "            if((cadena[i] != cadena[i+1]) and (cadena[i] != cadena(i+2)) and cadena[i+1]!=cadena[i+2]):\n",
    "                #Caso donde se sustituye \n",
    "    else:\n",
    "        #Caso donde el tamano del array es menor a 3 y debe de hacer una comparacion mas simple\n",
    "        \n",
    "\n",
    "    "
   ]
  },
  {
   "cell_type": "code",
   "execution_count": null,
   "metadata": {},
   "outputs": [],
   "source": []
  }
 ],
 "metadata": {
  "kernelspec": {
   "display_name": "Python 3",
   "language": "python",
   "name": "python3"
  },
  "language_info": {
   "codemirror_mode": {
    "name": "ipython",
    "version": 3
   },
   "file_extension": ".py",
   "mimetype": "text/x-python",
   "name": "python",
   "nbconvert_exporter": "python",
   "pygments_lexer": "ipython3",
   "version": "3.6.5"
  }
 },
 "nbformat": 4,
 "nbformat_minor": 2
}
