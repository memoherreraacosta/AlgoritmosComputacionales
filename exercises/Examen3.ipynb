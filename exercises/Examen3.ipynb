{
 "cells": [
  {
   "cell_type": "code",
   "execution_count": 84,
   "metadata": {},
   "outputs": [],
   "source": [
    "import numpy as np\n",
    "import networkx as nx"
   ]
  },
  {
   "cell_type": "code",
   "execution_count": 89,
   "metadata": {},
   "outputs": [],
   "source": [
    "M = np.matrix([[0,0,0,0,0,8,0,0,0,0,0,0,0,0,0,0,0,0],\n",
    "              [7,0,3,0,0,0,0,0,0,0,0,0,0,0,0,0,0,0],\n",
    "              [0,0,0,2,0,0,0,0,0,0,0,0,0,0,0,0,0,0],\n",
    "              [0,0,0,0,-1,0,3,0,0,0,0,3,0,0,0,0,0,0],\n",
    "              [0,0,0,0,0,4,0,0,0,0,0,0,0,0,0,0,0,0],\n",
    "              [0,0,0,0,0,0,0,0,0,0,0,0,0,0,0,0,0,0],\n",
    "              [0,0,0,0,0,0,0,-4,0,1,0,0,0,0,0,0,0,0],\n",
    "              [0,0,0,0,0,5,0,0,0,3,1,0,0,0,0,0,0,0],\n",
    "              [0,0,0,-1,0,0,0,0,0,0,0,0,0,0,0,0,0,0],\n",
    "              [0,0,0,0,0,0,0,0,-2,0,0,0,0,0,0,0,0,0],\n",
    "              [0,0,0,0,0,0,0,0,0,2,0,0,0,0,0,0,0,0],\n",
    "              [0,0,0,0,0,0,0,0,0,0,0,0,-1,0,0,0,0,0],\n",
    "              [0,0,0,0,0,-4,0,0,0,0,0,0,0,0,0,0,0,0],\n",
    "              [0,0,0,0,0,0,0,0,0,0,0,0,0,0,0,0,0,0],\n",
    "              [0,0,0,0,0,0,0,0,0,0,0,0,0,0,0,-1,0,1],\n",
    "              [0,0,0,0,0,0,0,0,0,0,0,0,0,0,0,0,3,1],\n",
    "              [0,0,0,0,0,0,0,0,0,0,0,0,0,0,-4,0,0,1],\n",
    "              [0,0,0,0,0,0,0,0,0,0,0,0,0,0,0,0,0,0],\n",
    "              ])\n",
    "G = nx.from_numpy_matrix(M)"
   ]
  },
  {
   "cell_type": "code",
   "execution_count": 106,
   "metadata": {},
   "outputs": [
    {
     "data": {
      "text/plain": [
       "(18, 18)"
      ]
     },
     "execution_count": 106,
     "metadata": {},
     "output_type": "execute_result"
    }
   ],
   "source": [
    "M.shape\n",
    "#nx.draw(G, node_color='bisque', with_labels=True)"
   ]
  },
  {
   "cell_type": "markdown",
   "metadata": {},
   "source": [
    "# Instrucciones"
   ]
  },
  {
   "cell_type": "markdown",
   "metadata": {},
   "source": [
    "Para el grafo (dirigido)  representado arriba encontrar lo siguiente:"
   ]
  },
  {
   "cell_type": "code",
   "execution_count": 90,
   "metadata": {},
   "outputs": [
    {
     "ename": "SyntaxError",
     "evalue": "invalid syntax (<ipython-input-90-e3ee8eb17421>, line 2)",
     "output_type": "error",
     "traceback": [
      "\u001b[0;36m  File \u001b[0;32m\"<ipython-input-90-e3ee8eb17421>\"\u001b[0;36m, line \u001b[0;32m2\u001b[0m\n\u001b[0;31m    1) El número de ciclos negativos  y una lista con cada ciclo encontrado\u001b[0m\n\u001b[0m     ^\u001b[0m\n\u001b[0;31mSyntaxError\u001b[0m\u001b[0;31m:\u001b[0m invalid syntax\n"
     ]
    }
   ],
   "source": [
    "\n",
    "1) El número de ciclos negativos  y una lista con cada ciclo encontrado\n",
    "2) el número de ciclos positivos y una lista con cada ciclo encontrado\n",
    "3) el camino más corto entre el nodo0 y nodo5\n",
    "4) el nodo con más conexiones entrantes\n",
    "5)* Los strongly connected components "
   ]
  },
  {
   "cell_type": "code",
   "execution_count": 104,
   "metadata": {},
   "outputs": [
    {
     "name": "stdout",
     "output_type": "stream",
     "text": [
      "[[6, 9, 8, 3], [7, 10, 9], [6, 7, 9], [5, 7, 9, 8, 3, 2, 1, 0], [5, 12, 11, 3, 2, 1, 0], [5, 4, 3, 2, 1, 0], [15, 16, 14], [17, 16, 14], [15, 17, 14]]\n"
     ]
    }
   ],
   "source": [
    "# 1 El número de ciclos negativos  y una lista con cada ciclo encontrado \n",
    "\n",
    "def ciclos(G, root=None):\n",
    "    nodos = set(G.nodes())\n",
    "    ciclos = []\n",
    "    while nodos:  # Buscar entre los nodos conectados\n",
    "        if root is None:\n",
    "            root = nodos.pop()\n",
    "        stack = [root]\n",
    "        pred = {root: root}\n",
    "        used = {root: set()}\n",
    "        while stack:  # walk the spanning tree finding cycles\n",
    "            z = stack.pop()  # use last-in so cycles easier to find\n",
    "            zused = used[z]\n",
    "            for nbr in G[z]:\n",
    "                if nbr not in used:   # new node\n",
    "                    pred[nbr] = z\n",
    "                    stack.append(nbr)\n",
    "                    used[nbr] = set([z])\n",
    "                elif nbr == z:          # self loops\n",
    "                    ciclos.append([z])\n",
    "                elif nbr not in zused:  # found a cycle\n",
    "                    pn = used[nbr]\n",
    "                    ciclos = [nbr, z]\n",
    "                    p = pred[z]\n",
    "                    while p not in pn:\n",
    "                        ciclos.append(p)\n",
    "                        p = pred[p]\n",
    "                    ciclos.append(p)\n",
    "                    ciclos.append(ciclos)\n",
    "                    used[nbr].add(z)\n",
    "        nodes -= set(pred)\n",
    "        root = None\n",
    "    return ciclos\n",
    "\n",
    "print(ciclos(G))"
   ]
  },
  {
   "cell_type": "code",
   "execution_count": 99,
   "metadata": {},
   "outputs": [],
   "source": [
    "# 2 El número de ciclos positivos  y una lista con cada ciclo encontrado \n",
    "\n",
    "def ciclos(G, root=None):\n",
    "    nodos = set(G.nodes())\n",
    "    ciclos = []\n",
    "    while nodos:  # Buscar entre los nodos conectados\n",
    "        if root is None:\n",
    "            root = nodos.pop()\n",
    "        stack = [root]\n",
    "        pred = {root: root}\n",
    "        used = {root: set()}\n",
    "        while stack:  # walk the spanning tree finding cycles\n",
    "            z = stack.pop()  # use last-in so cycles easier to find\n",
    "            zused = used[z]\n",
    "            for nbr in G[z]:\n",
    "                if nbr not in used:   # new node\n",
    "                    pred[nbr] = z\n",
    "                    stack.append(nbr)\n",
    "                    used[nbr] = set([z])\n",
    "                elif nbr == z:          # self loops\n",
    "                    ciclos.append([z])\n",
    "                elif nbr not in zused:  # found a cycle\n",
    "                    pn = used[nbr]\n",
    "                    ciclos = [nbr, z]\n",
    "                    p = pred[z]\n",
    "                    while p not in pn:\n",
    "                        ciclos.append(p)\n",
    "                        p = pred[p]\n",
    "                    ciclos.append(p)\n",
    "                    ciclos.append(ciclos)\n",
    "                    used[nbr].add(z)\n",
    "        nodes -= set(pred)\n",
    "        root = None\n",
    "    return ciclos\n",
    "\n",
    "print(ciclos(G))"
   ]
  },
  {
   "cell_type": "code",
   "execution_count": 115,
   "metadata": {},
   "outputs": [
    {
     "name": "stdout",
     "output_type": "stream",
     "text": [
      "[0, 5]\n"
     ]
    }
   ],
   "source": [
    "# 3 El camino más corto entre el nodo0 y nodo5\n",
    "import pdb\n",
    "\n",
    "def initialize(graph, source):\n",
    "    d = {}\n",
    "    p = {}\n",
    "    for node in graph:\n",
    "        d[node] = float('Inf')\n",
    "        p[node] = None\n",
    "    d[source] = 0\n",
    "    return d, p\n",
    "\n",
    "def relax(node, neighbour, graph, d, p):\n",
    "    if d[neighbour] > d[node] + graph[node][neighbour]:\n",
    "        d[neighbour]  = d[node] + graph[node][neighbour]\n",
    "        p[neighbour] = node\n",
    "\n",
    "def bellman_ford(graph, source):\n",
    "    d, p = initialize(graph, source)\n",
    "    for i in range(len(graph)-1):\n",
    "        for u in graph:\n",
    "            for v in graph[u]:\n",
    "                relax(u, v, graph, d, p)\n",
    "    for u in graph:\n",
    "        for v in graph[u]:\n",
    "            assert d[v] <= d[u] + graph[u][v]\n",
    "\n",
    "    return d, p\n",
    "\n",
    "\n",
    "graph = {'0': {'5': 8},'1': {'0': 7 , '2': 3, } ,'2': {'3' : 2 },'3': {'4' : -1, '6': 3, '11':3},\n",
    "         '4': {'5':4},'5':{},'6': {'7':-4, '9':1},'7': {'5':5, '9':3, '10':1},'8': {'3':-1},\n",
    "         '9': {'8':-2},'10': {'9':2},'11': {'12':-1},'12': {'5':-4},'13': {},'14': {'17':1, '15':-1},\n",
    "         '15': {'17':1, '16':3},'16': {'17':1, '14':-4},'17': {}}\n",
    "\n",
    "\n",
    "d, p = bellman_ford(graph, 0)\n",
    "\n",
    "print(nx.shortest_path(G,0,5))"
   ]
  },
  {
   "cell_type": "code",
   "execution_count": 101,
   "metadata": {},
   "outputs": [],
   "source": [
    "# 4 el nodo con más conexiones entrantes\n"
   ]
  },
  {
   "cell_type": "code",
   "execution_count": null,
   "metadata": {},
   "outputs": [],
   "source": []
  }
 ],
 "metadata": {
  "kernelspec": {
   "display_name": "Python 3",
   "language": "python",
   "name": "python3"
  },
  "language_info": {
   "codemirror_mode": {
    "name": "ipython",
    "version": 3
   },
   "file_extension": ".py",
   "mimetype": "text/x-python",
   "name": "python",
   "nbconvert_exporter": "python",
   "pygments_lexer": "ipython3",
   "version": "3.6.5"
  }
 },
 "nbformat": 4,
 "nbformat_minor": 2
}
