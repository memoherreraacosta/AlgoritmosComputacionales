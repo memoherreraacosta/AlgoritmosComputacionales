{
 "cells": [
  {
   "cell_type": "markdown",
   "metadata": {},
   "source": [
    "## RSA implementation"
   ]
  },
  {
   "cell_type": "code",
   "execution_count": 5,
   "metadata": {},
   "outputs": [],
   "source": [
    "from random import random, choice\n",
    "import math"
   ]
  },
  {
   "cell_type": "code",
   "execution_count": 6,
   "metadata": {},
   "outputs": [],
   "source": [
    "#Generate keys\n",
    "def recibirMensaje():\n",
    "    mensaje = input(\"\\nEscribe el mensaje a encriptar :\\n\\n\")\n",
    "    for i in mensaje:\n",
    "        yield ord(i)\n",
    "    \n",
    "def isPrime(n):\n",
    "    for i in range(2, n//2):\n",
    "        if (n % i) == 0:\n",
    "            return False\n",
    "    return True\n",
    "\n",
    "    \n",
    "def primeNum():\n",
    "    \"\"\"\n",
    "        Max_n must be lower than 1500 to have ciphered\n",
    "        chars that can be used in utf-8 at the time to\n",
    "        be printed\n",
    "    \"\"\"\n",
    "    min_n = 2\n",
    "    max_n = 1000\n",
    "    listaPrimos = [\n",
    "        number\n",
    "        for number\n",
    "        in range(min_n, max_n)\n",
    "        if isPrime(number)\n",
    "    ]\n",
    "    return choice(listaPrimos)\n",
    "\n",
    "\n",
    "def modinv(a, m):\n",
    "    g, x, y = egcd(a, m)\n",
    "    if g == 1:\n",
    "        return x % m\n",
    "\n",
    "    \n",
    "def egcd(a, b):\n",
    "    if a == 0:\n",
    "        return (b, 0, 1)\n",
    "    else:\n",
    "        g, y, x = egcd(b % a, a)\n",
    "        return (g, x - (b // a) * y, y)\n",
    "    \n",
    "    \n",
    "def chooseE(n):\n",
    "    e = 2\n",
    "    while(e<n):\n",
    "        if ((gcd(e,n) == 1)):\n",
    "            return e\n",
    "        e+=1\n",
    "\n",
    "        \n",
    "def gcd(a,b):\n",
    "    while b > 0:\n",
    "        a, b = b, a % b\n",
    "    return a\n",
    "\n",
    "\n",
    "#Cipher \n",
    "def cifrar(m,e,n):\n",
    "    for i in m:\n",
    "        yield pow(i,e,n)\n",
    "        \n",
    "#Descipher\n",
    "def descifrar(c,d,n):\n",
    "    for i in c:\n",
    "        yield pow(i,d,n)"
   ]
  },
  {
   "cell_type": "code",
   "execution_count": 7,
   "metadata": {},
   "outputs": [],
   "source": [
    "def setup():\n",
    "    p = primeNum()\n",
    "    q = primeNum()\n",
    "\n",
    "    while (p == q):\n",
    "        q = primeNum()\n",
    "\n",
    "    n = p*q\n",
    "    phiN = (p-1)*(q-1) #Phi de n\n",
    "    e = chooseE(phiN) #Tiene que ser Coprimo MCD(e,Phi(n))=1\n",
    "    d = modinv(e,phiN) # d es la inversa de e\n",
    "    return n, e, d"
   ]
  },
  {
   "cell_type": "code",
   "execution_count": 8,
   "metadata": {},
   "outputs": [],
   "source": [
    "def rsa():\n",
    "    n, e, d = setup()\n",
    "    \n",
    "    message = list(recibirMensaje())\n",
    "    print(str(message))\n",
    "    print(\"-----------------\\n\\n\")\n",
    "\n",
    "    print(\"Mensaje cifrado:\\n\")\n",
    "    message_ciphered = list(cifrar(message,e,n))\n",
    "    for char in message_ciphered:\n",
    "        print(chr(char),end=\", \")\n",
    "    print(\"\")\n",
    "    print(str(message_ciphered))\n",
    "    print(\"-----------------\\n\\n\")\n",
    "\n",
    "    print(\"Mensaje descifrado:\\n\")\n",
    "    message_deciphered= list((descifrar(message_ciphered,d,n)))\n",
    "    for char in message_deciphered:\n",
    "        print(chr(char),end=\"\")\n",
    "    print(\"\")\n",
    "    print(str(message_deciphered))\n",
    "    print(\"\\n-----------------\")"
   ]
  },
  {
   "cell_type": "code",
   "execution_count": 9,
   "metadata": {},
   "outputs": [
    {
     "name": "stdout",
     "output_type": "stream",
     "text": [
      "\n",
      "Escribe el mensaje a encriptar :\n",
      "\n",
      "Ejemplo de mensaje cifrado en algoritmo RSA 字符 かんじ 弓\n",
      "[69, 106, 101, 109, 112, 108, 111, 32, 100, 101, 32, 109, 101, 110, 115, 97, 106, 101, 32, 99, 105, 102, 114, 97, 100, 111, 32, 101, 110, 32, 97, 108, 103, 111, 114, 105, 116, 109, 111, 32, 82, 83, 65, 32, 23383, 31526, 32, 12363, 12435, 12376, 32, 24339]\n",
      "-----------------\n",
      "\n",
      "\n",
      "Mensaje cifrado:\n",
      "\n",
      "ઐ, ⺑, η, ছ, ☓, 㚮, 》, ⏞, ⹭, η, ⏞, ছ, η, ⥆, ྆, ◮, ⺑, η, ⏞, Ј, ⪖, Ḧ, ᰼, ◮, ⹭, 》, ⏞, η, ⥆, ⏞, ◮, 㚮, ␡, 》, ᰼, ⪖, ᎒, ছ, 》, ⏞, ᰴ, ⁪, ㅁ, ⏞, ௽, ⹣, ⏞, ㈖, ⩅, ㈒, ⏞, ᳄, \n",
      "[2704, 11921, 951, 2459, 9747, 13998, 12299, 9182, 11885, 951, 9182, 2459, 951, 10566, 3974, 9710, 11921, 951, 9182, 1032, 10902, 7718, 7228, 9710, 11885, 12299, 9182, 951, 10566, 9182, 9710, 13998, 9249, 12299, 7228, 10902, 5010, 2459, 12299, 9182, 7220, 8298, 12609, 9182, 3069, 11875, 9182, 12822, 10821, 12818, 9182, 7364]\n",
      "-----------------\n",
      "\n",
      "\n",
      "Mensaje descifrado:\n",
      "\n",
      "Ejemplo de mensaje cifrado en algoritmo RSA ℚڬ かんじ ⓖ\n",
      "[69, 106, 101, 109, 112, 108, 111, 32, 100, 101, 32, 109, 101, 110, 115, 97, 106, 101, 32, 99, 105, 102, 114, 97, 100, 111, 32, 101, 110, 32, 97, 108, 103, 111, 114, 105, 116, 109, 111, 32, 82, 83, 65, 32, 8474, 1708, 32, 12363, 12435, 12376, 32, 9430]\n",
      "\n",
      "-----------------\n"
     ]
    }
   ],
   "source": [
    "rsa()"
   ]
  },
  {
   "cell_type": "code",
   "execution_count": null,
   "metadata": {},
   "outputs": [],
   "source": []
  }
 ],
 "metadata": {
  "kernelspec": {
   "display_name": "Python 3",
   "language": "python",
   "name": "python3"
  },
  "language_info": {
   "codemirror_mode": {
    "name": "ipython",
    "version": 3
   },
   "file_extension": ".py",
   "mimetype": "text/x-python",
   "name": "python",
   "nbconvert_exporter": "python",
   "pygments_lexer": "ipython3",
   "version": "3.7.1"
  }
 },
 "nbformat": 4,
 "nbformat_minor": 2
}
