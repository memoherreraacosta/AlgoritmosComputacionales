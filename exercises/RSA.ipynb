{
 "cells": [
  {
   "cell_type": "code",
   "execution_count": 3,
   "metadata": {},
   "outputs": [],
   "source": [
    "import random as random\n",
    "import math"
   ]
  },
  {
   "cell_type": "code",
   "execution_count": 4,
   "metadata": {},
   "outputs": [],
   "source": [
    "#Generate keys\n",
    "def recibirMensaje():\n",
    "    mensaje = input(\"Escribe el mensaje a encriptar :\\n\\n\")\n",
    "    for i in mensaje:\n",
    "        yield ord(i)\n",
    "    \n",
    "def primeNum():\n",
    "    listaPrimos = [53,59,61,67,71,73,79,83,89,97,101,103,107,109,113]\n",
    "    return listaPrimos[random.randint(0,len(listaPrimos)-1)]\n",
    "\n",
    "def modinv(a, m):\n",
    "    g, x, y = egcd(a, m)\n",
    "    if g == 1:\n",
    "        return x % m\n",
    "\n",
    "def egcd(a, b):\n",
    "    if a == 0:\n",
    "        return (b, 0, 1)\n",
    "    else:\n",
    "        g, y, x = egcd(b % a, a)\n",
    "        return (g, x - (b // a) * y, y)\n",
    "    \n",
    "def chooseE(n):\n",
    "    e = 2\n",
    "    while(e<n):\n",
    "        if ((gcd(e,n) == 1)):\n",
    "            return e\n",
    "        e+=1\n",
    "\n",
    "def gcd(a,b):\n",
    "    while b > 0:\n",
    "        a, b = b, a % b\n",
    "    return a\n",
    "\n",
    "#Cipher \n",
    "def cifrar(m,e,n):\n",
    "    for i in m:\n",
    "        yield pow(i,e,n)\n",
    "        \n",
    "#Descipher\n",
    "def descifrar(c,d,n):\n",
    "    for i in c:\n",
    "        print(chr(pow(i,d,n)), end = \"\")\n",
    "        yield pow(i,d,n)\n"
   ]
  },
  {
   "cell_type": "code",
   "execution_count": 5,
   "metadata": {},
   "outputs": [],
   "source": [
    "p = primeNum()\n",
    "q = primeNum()\n",
    "\n",
    "while (p == q):\n",
    "    q = primeNum()\n",
    "        \n",
    "n = p*q\n",
    "phiN = (p-1)*(q-1) #Phi de n\n",
    "e = chooseE(phiN) #Tiene que ser Coprimo MCD(e,Phi(n))=1\n",
    "d = modinv(e,phiN) # d es la inversa de e"
   ]
  },
  {
   "cell_type": "code",
   "execution_count": 6,
   "metadata": {},
   "outputs": [
    {
     "name": "stdout",
     "output_type": "stream",
     "text": [
      "Escribe el mensaje a encriptar :\n",
      "\n",
      "Hola\n",
      "[72, 111, 108, 97]\n",
      "-----------------\n",
      "\n",
      "Mensaje cifrado: \n",
      "oಬ١͊\n",
      "\n",
      "[111, 3244, 1633, 842]\n",
      "-----------------\n",
      "\n",
      "Mensaje descifrado: \n",
      "Hola\n",
      "[72, 111, 108, 97]\n"
     ]
    }
   ],
   "source": [
    "\n",
    "m = list(recibirMensaje())\n",
    "print(str(m)+\"\\n-----------------\\n\")\n",
    "\n",
    "print(\"Mensaje cifrado: \")\n",
    "cif = list(cifrar(m,e,n))\n",
    "\n",
    "for i in cif:\n",
    "    print(chr(i),end=\"\")\n",
    "print(\"\\n\")\n",
    "print(str(cif)+\"\\n-----------------\\n\")\n",
    "\n",
    "print(\"Mensaje descifrado: \")\n",
    "des = list((descifrar(cif,d,n)))\n",
    "print(\"\\n\"+str(des))"
   ]
  },
  {
   "cell_type": "code",
   "execution_count": null,
   "metadata": {},
   "outputs": [],
   "source": []
  }
 ],
 "metadata": {
  "kernelspec": {
   "display_name": "Python 3",
   "language": "python",
   "name": "python3"
  },
  "language_info": {
   "codemirror_mode": {
    "name": "ipython",
    "version": 3
   },
   "file_extension": ".py",
   "mimetype": "text/x-python",
   "name": "python",
   "nbconvert_exporter": "python",
   "pygments_lexer": "ipython3",
   "version": "3.7.1"
  }
 },
 "nbformat": 4,
 "nbformat_minor": 2
}
