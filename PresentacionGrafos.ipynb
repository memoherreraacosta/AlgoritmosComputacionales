{
 "cells": [
  {
   "cell_type": "code",
   "execution_count": 61,
   "metadata": {},
   "outputs": [],
   "source": [
    "import numpy as np\n",
    "import pandas as pd\n",
    "import matplotlib.pyplot as plt\n",
    "from pylab import rcParams\n",
    "import seaborn as sb\n",
    "import networkx as nx"
   ]
  },
  {
   "cell_type": "code",
   "execution_count": 62,
   "metadata": {},
   "outputs": [],
   "source": [
    "%matplotlib inline\n",
    "rcParams['figure.figsize'] = 5, 4\n",
    "sb.set_style('whitegrid')"
   ]
  },
  {
   "cell_type": "code",
   "execution_count": 63,
   "metadata": {},
   "outputs": [],
   "source": [
    "G = nx.Graph()\n",
    "\n",
    "G.name = \"Grafito\"\n",
    "\n",
    "G.add_nodes_from(['Tec', \n",
    "                  'Andares',\n",
    "                  'Galerias',\n",
    "                  'UAG',\n",
    "                  'Colomos',\n",
    "                  'PA', # Periferico y Acueducto\n",
    "                  'RC', # Real Center\n",
    "                  'LcP', # Lazaro Cardenas y Periferico\n",
    "                  'Trompo' # Trompo Mágico\n",
    "                   ])\n",
    "\n",
    "G.add_edge('Tec','RC', weight = 8 )\n",
    "G.add_edge('Tec','LcP', weight = 8 )\n",
    "G.add_edge('RC','Trompo', weight = 2 )\n",
    "G.add_edge('Trompo','PA', weight = 2 )\n",
    "G.add_edge('LcP','PA', weight = 10 )\n",
    "G.add_edge('LcP','Galerias', weight = 12 )\n",
    "G.add_edge('Galerias','UAG', weight = 10 )\n",
    "G.add_edge('UAG','Andares', weight = 5 )\n",
    "G.add_edge('Andares','Colomos', weight = 5 )\n",
    "G.add_edge('Andares','PA', weight = 5 )\n"
   ]
  },
  {
   "cell_type": "code",
   "execution_count": 64,
   "metadata": {},
   "outputs": [
    {
     "name": "stdout",
     "output_type": "stream",
     "text": [
      "Name: Grafito\n",
      "Type: Graph\n",
      "Number of nodes: 9\n",
      "Number of edges: 10\n",
      "Average degree:   2.2222\n"
     ]
    }
   ],
   "source": [
    "print(nx.info(G))"
   ]
  },
  {
   "cell_type": "code",
   "execution_count": 65,
   "metadata": {},
   "outputs": [],
   "source": [
    "#list(G.nodes)"
   ]
  },
  {
   "cell_type": "code",
   "execution_count": 66,
   "metadata": {},
   "outputs": [
    {
     "name": "stdout",
     "output_type": "stream",
     "text": [
      "\n",
      "Conexiones desde Tec :\n",
      "[('Tec', 'RC'), ('Tec', 'LcP')]\n",
      "\n",
      "Conexiones desde Andares :\n",
      "[('Andares', 'UAG'), ('Andares', 'Colomos'), ('Andares', 'PA')]\n",
      "\n",
      "Conexiones desde Galerias :\n",
      "[('Galerias', 'LcP'), ('Galerias', 'UAG')]\n",
      "\n",
      "Conexiones desde UAG :\n",
      "[('UAG', 'Galerias'), ('UAG', 'Andares')]\n",
      "\n",
      "Conexiones desde Colomos :\n",
      "[('Colomos', 'Andares')]\n",
      "\n",
      "Conexiones desde PA :\n",
      "[('PA', 'Trompo'), ('PA', 'LcP'), ('PA', 'Andares')]\n",
      "\n",
      "Conexiones desde RC :\n",
      "[('RC', 'Tec'), ('RC', 'Trompo')]\n",
      "\n",
      "Conexiones desde LcP :\n",
      "[('LcP', 'Tec'), ('LcP', 'PA'), ('LcP', 'Galerias')]\n",
      "\n",
      "Conexiones desde Trompo :\n",
      "[('Trompo', 'RC'), ('Trompo', 'PA')]\n"
     ]
    }
   ],
   "source": [
    "for i in G.nodes:\n",
    "    print(\"\\nConexiones desde \"+ i +\" :\")\n",
    "    print(list(G.edges(i)))"
   ]
  },
  {
   "cell_type": "code",
   "execution_count": 68,
   "metadata": {},
   "outputs": [
    {
     "data": {
      "image/png": "[encoded data removed]",
      "text/plain": [
       "<Figure size 360x288 with 1 Axes>"
      ]
     },
     "metadata": {},
     "output_type": "display_data"
    }
   ],
   "source": [
    "nx.draw_circular(G, node_color='bisque', with_labels=True)"
   ]
  },
  {
   "cell_type": "code",
   "execution_count": 71,
   "metadata": {},
   "outputs": [
    {
     "data": {
      "text/plain": [
       "['Galerias', 'Andares']"
      ]
     },
     "execution_count": 71,
     "metadata": {},
     "output_type": "execute_result"
    }
   ],
   "source": [
    "list(G.neighbors('UAG'))"
   ]
  },
  {
   "cell_type": "code",
   "execution_count": 72,
   "metadata": {},
   "outputs": [
    {
     "data": {
      "text/plain": [
       "['Tec', 'LcP', 'Galerias']"
      ]
     },
     "execution_count": 72,
     "metadata": {},
     "output_type": "execute_result"
    }
   ],
   "source": [
    "nx.dijkstra_path(G,'Tec','Galerias')"
   ]
  },
  {
   "cell_type": "code",
   "execution_count": 73,
   "metadata": {},
   "outputs": [
    {
     "data": {
      "text/plain": [
       "['Tec', 'RC', 'Trompo', 'PA', 'Andares', 'Colomos']"
      ]
     },
     "execution_count": 73,
     "metadata": {},
     "output_type": "execute_result"
    }
   ],
   "source": [
    "nx.dijkstra_path(G,'Tec','Colomos')"
   ]
  },
  {
   "cell_type": "code",
   "execution_count": 74,
   "metadata": {},
   "outputs": [
    {
     "data": {
      "text/plain": [
       "[('Tec', 'RC'),\n",
       " ('RC', 'Trompo'),\n",
       " ('Trompo', 'PA'),\n",
       " ('PA', 'LcP'),\n",
       " ('LcP', 'Galerias'),\n",
       " ('Galerias', 'UAG'),\n",
       " ('UAG', 'Andares'),\n",
       " ('Andares', 'Colomos')]"
      ]
     },
     "execution_count": 74,
     "metadata": {},
     "output_type": "execute_result"
    }
   ],
   "source": [
    "list(nx.dfs_edges(G,'Tec'))"
   ]
  },
  {
   "cell_type": "code",
   "execution_count": 75,
   "metadata": {},
   "outputs": [
    {
     "name": "stdout",
     "output_type": "stream",
     "text": [
      "('Tec', 'RC') ('RC', 'Trompo') ('Trompo', 'PA') ('PA', 'LcP') ('LcP', 'Galerias') ('Galerias', 'UAG') ('UAG', 'Andares') ('Andares', 'Colomos') "
     ]
    }
   ],
   "source": [
    "def dfs(G, v):\n",
    "    nodes = [v]\n",
    "    visited=set()\n",
    "    for start in nodes:\n",
    "        if start in visited:\n",
    "             continue\n",
    "        visited.add(start)\n",
    "        stack = [(start,iter(G[start]))]\n",
    "        while stack:\n",
    "            parent,children = stack[-1]\n",
    "            try:\n",
    "                child = next(children)\n",
    "                if child not in visited:\n",
    "                    yield parent,child\n",
    "                    visited.add(child)\n",
    "                    stack.append((child,iter(G[child])))\n",
    "            except StopIteration:\n",
    "                stack.pop()\n",
    "                \n",
    "path = dfs(G,'Tec')\n",
    "for p in path:\n",
    "    print(p, end = ' ')"
   ]
  },
  {
   "cell_type": "code",
   "execution_count": 76,
   "metadata": {},
   "outputs": [
    {
     "data": {
      "text/plain": [
       "['Tec', 'RC', 'Trompo', 'PA', 'Andares', 'Colomos']"
      ]
     },
     "execution_count": 76,
     "metadata": {},
     "output_type": "execute_result"
    }
   ],
   "source": [
    "def dijsktra_path(G, v, d):\n",
    "  visited = {v : 0}\n",
    "  path = {}\n",
    "\n",
    "  nodes = set(list(G.nodes))\n",
    "\n",
    "  while nodes: \n",
    "    min_node = None\n",
    "    for node in nodes:\n",
    "      if node in visited:\n",
    "        if min_node is None:\n",
    "          min_node = node\n",
    "        elif visited[node] < visited[min_node]:\n",
    "          min_node = node\n",
    "\n",
    "    if min_node is None:\n",
    "      break\n",
    "\n",
    "    nodes.remove(min_node)\n",
    "    current_weight = visited[min_node]\n",
    "\n",
    "    for edge in G.edges(min_node):\n",
    "      peso = current_weight + G.get_edge_data(min_node, edge)\n",
    "      if edge not in visited or weight < visited[edge]:\n",
    "        visited[edge] = peso\n",
    "        path[edge] = min_node\n",
    "\n",
    "  return visited, path \n",
    "\n",
    "nx.dijkstra_path(G,'Tec','Colomos')"
   ]
  },
  {
   "cell_type": "code",
   "execution_count": null,
   "metadata": {},
   "outputs": [],
   "source": [
    "#G.get_edge_data('A','B')['weight']"
   ]
  }
 ],
 "metadata": {
  "kernelspec": {
   "display_name": "Python 3",
   "language": "python",
   "name": "python3"
  },
  "language_info": {
   "codemirror_mode": {
    "name": "ipython",
    "version": 3
   },
   "file_extension": ".py",
   "mimetype": "text/x-python",
   "name": "python",
   "nbconvert_exporter": "python",
   "pygments_lexer": "ipython3",
   "version": "3.7.1"
  }
 },
 "nbformat": 4,
 "nbformat_minor": 2
}
